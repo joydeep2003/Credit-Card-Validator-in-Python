{
 "cells": [
  {
   "cell_type": "code",
   "execution_count": null,
   "id": "c144e321",
   "metadata": {},
   "outputs": [],
   "source": [
    "cc = str(input(\"Enter a credit card number to validate (Mastercard, Visa, Discover, Amex only): \"))\n",
    "\n",
    "def val_cc(number):\n",
    "  cc_rev = number[::-1]\n",
    "  total = 0\n",
    "  for i in cc_rev[1::2]:\n",
    "  \tx = int(i)*2\n",
    "  \tif len(str(x)) == 2:\n",
    "  \t\tfor a in str(x):\n",
    "  \t\t\ttotal += int(a)\n",
    "  \telse:\n",
    "  \t\ttotal += int(x)\n",
    "  \t\n",
    "  for i in cc_rev[::2]:\n",
    "  \ttotal += int(i)\n",
    "\n",
    "  return total\n",
    "\n",
    "if (int(cc[:2]) >= 51 and int(cc[:2]) <= 55 and len(cc) == 16) or \\\n",
    "\t(int(cc[0]) == 4 and (len(cc) == 13 or len(cc) == 16)) or \\\n",
    "\t((int(cc[:2]) == 34 or int(cc[:2]) == 37) and len(cc) == 15) or \\\n",
    "\t(int(cc[:4]) == 6011 and len(cc) == 16):\n",
    "  if val_cc(cc) % 10 == 0:\n",
    "\t  print (\"%s is a valid credit card number\" % cc)\n",
    "  else:\n",
    "\t  print (\"%s is NOT a valid credit card number\" % cc)\n",
    "else:\n",
    "\tprint (\"%s is NOT a valid credit card number\" % cc)\n",
    "\n"
   ]
  }
 ],
 "metadata": {
  "kernelspec": {
   "display_name": "Python 3 (ipykernel)",
   "language": "python",
   "name": "python3"
  },
  "language_info": {
   "codemirror_mode": {
    "name": "ipython",
    "version": 3
   },
   "file_extension": ".py",
   "mimetype": "text/x-python",
   "name": "python",
   "nbconvert_exporter": "python",
   "pygments_lexer": "ipython3",
   "version": "3.9.12"
  }
 },
 "nbformat": 4,
 "nbformat_minor": 5
}
